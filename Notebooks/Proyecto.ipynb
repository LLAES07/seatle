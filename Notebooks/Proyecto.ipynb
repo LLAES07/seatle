{
 "cells": [
  {
   "cell_type": "markdown",
   "id": "6c7c40dd",
   "metadata": {},
   "source": [
    "# IMPORTANDO LIBRERIAS"
   ]
  },
  {
   "cell_type": "code",
   "execution_count": 1,
   "id": "505f330d",
   "metadata": {},
   "outputs": [],
   "source": [
    "import pandas as pd\n",
    "import numpy as np"
   ]
  },
  {
   "cell_type": "code",
   "execution_count": 2,
   "id": "04489399",
   "metadata": {},
   "outputs": [],
   "source": [
    "df = pd.read_csv('../Data/datos_seattle.csv')"
   ]
  },
  {
   "cell_type": "code",
   "execution_count": 3,
   "id": "6051151b",
   "metadata": {},
   "outputs": [
    {
     "name": "stdout",
     "output_type": "stream",
     "text": [
      "<class 'pandas.core.frame.DataFrame'>\n",
      "RangeIndex: 30657 entries, 0 to 30656\n",
      "Data columns (total 46 columns):\n",
      " #   Column                          Non-Null Count  Dtype  \n",
      "---  ------                          --------------  -----  \n",
      " 0   osebuildingid                   30657 non-null  int64  \n",
      " 1   datayear                        30657 non-null  int64  \n",
      " 2   buildingname                    30657 non-null  object \n",
      " 3   buildingtype                    30657 non-null  object \n",
      " 4   taxparcelidentificationnumber   30657 non-null  object \n",
      " 5   address                         30657 non-null  object \n",
      " 6   city                            30657 non-null  object \n",
      " 7   state                           30657 non-null  object \n",
      " 8   zipcode                         30657 non-null  int64  \n",
      " 9   latitude                        30657 non-null  float64\n",
      " 10  longitude                       30657 non-null  float64\n",
      " 11  neighborhood                    30657 non-null  object \n",
      " 12  councildistrictcode             30657 non-null  int64  \n",
      " 13  yearbuilt                       30657 non-null  int64  \n",
      " 14  numberoffloors                  30574 non-null  float64\n",
      " 15  numberofbuildings               30363 non-null  float64\n",
      " 16  propertygfatotal                30657 non-null  int64  \n",
      " 17  propertygfabuildings            30657 non-null  int64  \n",
      " 18  propertygfaparking              30657 non-null  int64  \n",
      " 19  selfreportgfatotal              30657 non-null  int64  \n",
      " 20  selfreportgfabuildings          30657 non-null  int64  \n",
      " 21  selfreportparking               30657 non-null  int64  \n",
      " 22  energystarscore                 22699 non-null  float64\n",
      " 23  siteeuiwn_kbtu_sf               29450 non-null  float64\n",
      " 24  siteeui_kbtu_sf                 29760 non-null  float64\n",
      " 25  siteenergyuse_kbtu              29765 non-null  float64\n",
      " 26  siteenergyusewn_kbtu            29455 non-null  float64\n",
      " 27  sourceeuiwn_kbtu_sf             29450 non-null  float64\n",
      " 28  sourceeui_kbtu_sf               29760 non-null  float64\n",
      " 29  epapropertytype                 30618 non-null  object \n",
      " 30  largestpropertyusetype          30610 non-null  object \n",
      " 31  largestpropertyusetypegfa       30615 non-null  float64\n",
      " 32  secondlargestpropertyusetype    17514 non-null  object \n",
      " 33  thirdlargestpropertyusetype     6689 non-null   object \n",
      " 34  electricity_kwh                 30076 non-null  float64\n",
      " 35  steamuse_kbtu                   1057 non-null   float64\n",
      " 36  naturalgas_therms               19168 non-null  float64\n",
      " 37  compliancestatus                30657 non-null  object \n",
      " 38  complianceissue                 30331 non-null  object \n",
      " 39  electricity_kbtu                30077 non-null  float64\n",
      " 40  naturalgas_kbtu                 19168 non-null  float64\n",
      " 41  totalghgemissions               30159 non-null  float64\n",
      " 42  ghgemissionsintensity           30157 non-null  float64\n",
      " 43  demolished                      30657 non-null  bool   \n",
      " 44  secondlargestpropertyuse        17514 non-null  float64\n",
      " 45  thirdlargestpropertyusetypegfa  6528 non-null   float64\n",
      "dtypes: bool(1), float64(21), int64(11), object(13)\n",
      "memory usage: 10.6+ MB\n"
     ]
    }
   ],
   "source": [
    "df.info()"
   ]
  },
  {
   "cell_type": "code",
   "execution_count": 5,
   "id": "828b77f5",
   "metadata": {},
   "outputs": [
    {
     "data": {
      "text/plain": [
       "steamuse_kbtu                     96.552174\n",
       "thirdlargestpropertyusetypegfa    78.706331\n",
       "thirdlargestpropertyusetype       78.181166\n",
       "secondlargestpropertyusetype      42.871122\n",
       "secondlargestpropertyuse          42.871122\n",
       "naturalgas_kbtu                   37.475944\n",
       "naturalgas_therms                 37.475944\n",
       "energystarscore                   25.958182\n",
       "siteeuiwn_kbtu_sf                  3.937111\n",
       "sourceeuiwn_kbtu_sf                3.937111\n",
       "siteenergyusewn_kbtu               3.920801\n",
       "siteeui_kbtu_sf                    2.925922\n",
       "sourceeui_kbtu_sf                  2.925922\n",
       "siteenergyuse_kbtu                 2.909613\n",
       "electricity_kwh                    1.895163\n",
       "electricity_kbtu                   1.891901\n",
       "ghgemissionsintensity              1.630949\n",
       "totalghgemissions                  1.624425\n",
       "complianceissue                    1.063379\n",
       "numberofbuildings                  0.958998\n",
       "numberoffloors                     0.270738\n",
       "largestpropertyusetype             0.153309\n",
       "largestpropertyusetypegfa          0.137000\n",
       "epapropertytype                    0.127214\n",
       "address                            0.000000\n",
       "taxparcelidentificationnumber      0.000000\n",
       "datayear                           0.000000\n",
       "osebuildingid                      0.000000\n",
       "buildingtype                       0.000000\n",
       "buildingname                       0.000000\n",
       "yearbuilt                          0.000000\n",
       "councildistrictcode                0.000000\n",
       "neighborhood                       0.000000\n",
       "longitude                          0.000000\n",
       "latitude                           0.000000\n",
       "zipcode                            0.000000\n",
       "state                              0.000000\n",
       "city                               0.000000\n",
       "propertygfaparking                 0.000000\n",
       "selfreportgfatotal                 0.000000\n",
       "propertygfatotal                   0.000000\n",
       "propertygfabuildings               0.000000\n",
       "selfreportgfabuildings             0.000000\n",
       "selfreportparking                  0.000000\n",
       "compliancestatus                   0.000000\n",
       "demolished                         0.000000\n",
       "dtype: float64"
      ]
     },
     "execution_count": 5,
     "metadata": {},
     "output_type": "execute_result"
    }
   ],
   "source": [
    "df.isnull().sum().sort_values(ascending=False)*100.0/df.shape[0]"
   ]
  },
  {
   "cell_type": "markdown",
   "id": "a92a416b",
   "metadata": {},
   "source": [
    "Al analizar el conjunto de datos, se observa que las columnas ThirdLargestPropertyUseTypeGFA, ThirdLargestPropertyUseType, SecondLargestPropertyUseType y SecondLargestPropertyUse presentan un alto porcentaje de valores nulos, específicamente 78.7% y 42.9% respectivamente. Además, dado que el objetivo principal es predecir el consumo total de energía, estas variables no aportan información relevante para el análisis.\n",
    "\n",
    "Consideraciones:\n",
    "\n",
    "- Alto porcentaje de datos faltantes: Columnas con un elevado número de valores nulos pueden introducir sesgos y reducir la precisión del modelo. Cuando una variable tiene más del 80% de datos faltantes, es común considerar su eliminación para mantener la integridad del análisis. ​\n",
    "Medium\n",
    "\n",
    "- Relevancia para el modelo: Dado que el interés se centra en predecir el consumo total de energía, y estas columnas están relacionadas con usos secundarios o terciarios de la propiedad, su contribución al modelo es limitada.\n",
    "\n",
    "Conclusión:\n",
    "\n",
    "Debido al alto porcentaje de valores nulos y a su baja relevancia para el objetivo del análisis, procederé a eliminar las columnas ThirdLargestPropertyUseTypeGFA, ThirdLargestPropertyUseType, SecondLargestPropertyUseType y SecondLargestPropertyUse del conjunto de datos. Esta acción permitirá simplificar el modelo y mejorar su rendimiento al centrarse en variables más completas y pertinentes."
   ]
  },
  {
   "cell_type": "markdown",
   "id": "630572b2",
   "metadata": {},
   "source": []
  },
  {
   "cell_type": "code",
   "execution_count": null,
   "id": "5a09d57a",
   "metadata": {},
   "outputs": [],
   "source": [
    "columnas_a_eliminar =  [\n",
    "    'steamuse_kbtu',\n",
    "    'ThirdLargestPropertyUseTypeGFA',\n",
    "    'ThirdLargestPropertyUseType',\n",
    "    'SecondLargestPropertyUseType',\n",
    "    'SecondLargestPropertyUse'\n",
    "]\n",
    "\n",
    "# Eliminar las columnas del DataFrame\n",
    "df = df.drop(columns=columnas_a_eliminar)"
   ]
  }
 ],
 "metadata": {
  "kernelspec": {
   "display_name": "myenv",
   "language": "python",
   "name": "python3"
  },
  "language_info": {
   "codemirror_mode": {
    "name": "ipython",
    "version": 3
   },
   "file_extension": ".py",
   "mimetype": "text/x-python",
   "name": "python",
   "nbconvert_exporter": "python",
   "pygments_lexer": "ipython3",
   "version": "3.10.4"
  }
 },
 "nbformat": 4,
 "nbformat_minor": 5
}
