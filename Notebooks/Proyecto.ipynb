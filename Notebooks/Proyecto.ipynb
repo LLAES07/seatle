{
 "cells": [
  {
   "cell_type": "markdown",
   "id": "6c7c40dd",
   "metadata": {},
   "source": [
    "# IMPORTANDO LIBRERIAS"
   ]
  },
  {
   "cell_type": "code",
   "execution_count": 1,
   "id": "505f330d",
   "metadata": {},
   "outputs": [],
   "source": [
    "import pandas as pd\n",
    "import numpy as np"
   ]
  },
  {
   "cell_type": "code",
   "execution_count": 2,
   "id": "04489399",
   "metadata": {},
   "outputs": [],
   "source": [
    "df = pd.read_csv('../Data/datos_seattle.csv')"
   ]
  },
  {
   "cell_type": "code",
   "execution_count": 3,
   "id": "6051151b",
   "metadata": {},
   "outputs": [
    {
     "name": "stdout",
     "output_type": "stream",
     "text": [
      "<class 'pandas.core.frame.DataFrame'>\n",
      "RangeIndex: 30657 entries, 0 to 30656\n",
      "Data columns (total 46 columns):\n",
      " #   Column                          Non-Null Count  Dtype  \n",
      "---  ------                          --------------  -----  \n",
      " 0   osebuildingid                   30657 non-null  int64  \n",
      " 1   datayear                        30657 non-null  int64  \n",
      " 2   buildingname                    30657 non-null  object \n",
      " 3   buildingtype                    30657 non-null  object \n",
      " 4   taxparcelidentificationnumber   30657 non-null  object \n",
      " 5   address                         30657 non-null  object \n",
      " 6   city                            30657 non-null  object \n",
      " 7   state                           30657 non-null  object \n",
      " 8   zipcode                         30657 non-null  int64  \n",
      " 9   latitude                        30657 non-null  float64\n",
      " 10  longitude                       30657 non-null  float64\n",
      " 11  neighborhood                    30657 non-null  object \n",
      " 12  councildistrictcode             30657 non-null  int64  \n",
      " 13  yearbuilt                       30657 non-null  int64  \n",
      " 14  numberoffloors                  30574 non-null  float64\n",
      " 15  numberofbuildings               30363 non-null  float64\n",
      " 16  propertygfatotal                30657 non-null  int64  \n",
      " 17  propertygfabuildings            30657 non-null  int64  \n",
      " 18  propertygfaparking              30657 non-null  int64  \n",
      " 19  selfreportgfatotal              30657 non-null  int64  \n",
      " 20  selfreportgfabuildings          30657 non-null  int64  \n",
      " 21  selfreportparking               30657 non-null  int64  \n",
      " 22  energystarscore                 22699 non-null  float64\n",
      " 23  siteeuiwn_kbtu_sf               29450 non-null  float64\n",
      " 24  siteeui_kbtu_sf                 29760 non-null  float64\n",
      " 25  siteenergyuse_kbtu              29765 non-null  float64\n",
      " 26  siteenergyusewn_kbtu            29455 non-null  float64\n",
      " 27  sourceeuiwn_kbtu_sf             29450 non-null  float64\n",
      " 28  sourceeui_kbtu_sf               29760 non-null  float64\n",
      " 29  epapropertytype                 30618 non-null  object \n",
      " 30  largestpropertyusetype          30610 non-null  object \n",
      " 31  largestpropertyusetypegfa       30615 non-null  float64\n",
      " 32  secondlargestpropertyusetype    17514 non-null  object \n",
      " 33  thirdlargestpropertyusetype     6689 non-null   object \n",
      " 34  electricity_kwh                 30076 non-null  float64\n",
      " 35  steamuse_kbtu                   1057 non-null   float64\n",
      " 36  naturalgas_therms               19168 non-null  float64\n",
      " 37  compliancestatus                30657 non-null  object \n",
      " 38  complianceissue                 30331 non-null  object \n",
      " 39  electricity_kbtu                30077 non-null  float64\n",
      " 40  naturalgas_kbtu                 19168 non-null  float64\n",
      " 41  totalghgemissions               30159 non-null  float64\n",
      " 42  ghgemissionsintensity           30157 non-null  float64\n",
      " 43  demolished                      30657 non-null  bool   \n",
      " 44  secondlargestpropertyuse        17514 non-null  float64\n",
      " 45  thirdlargestpropertyusetypegfa  6528 non-null   float64\n",
      "dtypes: bool(1), float64(21), int64(11), object(13)\n",
      "memory usage: 10.6+ MB\n"
     ]
    }
   ],
   "source": [
    "df.info()"
   ]
  },
  {
   "cell_type": "code",
   "execution_count": 4,
   "id": "828b77f5",
   "metadata": {},
   "outputs": [
    {
     "data": {
      "text/plain": [
       "steamuse_kbtu                     29600\n",
       "thirdlargestpropertyusetypegfa    24129\n",
       "thirdlargestpropertyusetype       23968\n",
       "secondlargestpropertyusetype      13143\n",
       "secondlargestpropertyuse          13143\n",
       "naturalgas_kbtu                   11489\n",
       "naturalgas_therms                 11489\n",
       "energystarscore                    7958\n",
       "siteeuiwn_kbtu_sf                  1207\n",
       "sourceeuiwn_kbtu_sf                1207\n",
       "siteenergyusewn_kbtu               1202\n",
       "siteeui_kbtu_sf                     897\n",
       "sourceeui_kbtu_sf                   897\n",
       "siteenergyuse_kbtu                  892\n",
       "electricity_kwh                     581\n",
       "electricity_kbtu                    580\n",
       "ghgemissionsintensity               500\n",
       "totalghgemissions                   498\n",
       "complianceissue                     326\n",
       "numberofbuildings                   294\n",
       "numberoffloors                       83\n",
       "largestpropertyusetype               47\n",
       "largestpropertyusetypegfa            42\n",
       "epapropertytype                      39\n",
       "address                               0\n",
       "taxparcelidentificationnumber         0\n",
       "datayear                              0\n",
       "osebuildingid                         0\n",
       "buildingtype                          0\n",
       "buildingname                          0\n",
       "yearbuilt                             0\n",
       "councildistrictcode                   0\n",
       "neighborhood                          0\n",
       "longitude                             0\n",
       "latitude                              0\n",
       "zipcode                               0\n",
       "state                                 0\n",
       "city                                  0\n",
       "propertygfaparking                    0\n",
       "selfreportgfatotal                    0\n",
       "propertygfatotal                      0\n",
       "propertygfabuildings                  0\n",
       "selfreportgfabuildings                0\n",
       "selfreportparking                     0\n",
       "compliancestatus                      0\n",
       "demolished                            0\n",
       "dtype: int64"
      ]
     },
     "execution_count": 4,
     "metadata": {},
     "output_type": "execute_result"
    }
   ],
   "source": [
    "df.isnull().sum().sort_values(ascending=False)"
   ]
  }
 ],
 "metadata": {
  "kernelspec": {
   "display_name": "myenv",
   "language": "python",
   "name": "python3"
  },
  "language_info": {
   "codemirror_mode": {
    "name": "ipython",
    "version": 3
   },
   "file_extension": ".py",
   "mimetype": "text/x-python",
   "name": "python",
   "nbconvert_exporter": "python",
   "pygments_lexer": "ipython3",
   "version": "3.10.4"
  }
 },
 "nbformat": 4,
 "nbformat_minor": 5
}
